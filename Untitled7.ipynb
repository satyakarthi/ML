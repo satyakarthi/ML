{
  "nbformat": 4,
  "nbformat_minor": 0,
  "metadata": {
    "colab": {
      "provenance": [],
      "authorship_tag": "ABX9TyMhTSXZeJppekn6t/m+BUqK",
      "include_colab_link": true
    },
    "kernelspec": {
      "name": "python3",
      "display_name": "Python 3"
    },
    "language_info": {
      "name": "python"
    }
  },
  "cells": [
    {
      "cell_type": "markdown",
      "metadata": {
        "id": "view-in-github",
        "colab_type": "text"
      },
      "source": [
        "<a href=\"https://colab.research.google.com/github/satyakarthi/ML/blob/main/Untitled7.ipynb\" target=\"_parent\"><img src=\"https://colab.research.google.com/assets/colab-badge.svg\" alt=\"Open In Colab\"/></a>"
      ]
    },
    {
      "cell_type": "code",
      "execution_count": 12,
      "metadata": {
        "colab": {
          "base_uri": "https://localhost:8080/"
        },
        "id": "MfbVsPcDvOSr",
        "outputId": "c0e4d119-8af7-41f5-9445-71f6dda3a262"
      },
      "outputs": [
        {
          "output_type": "stream",
          "name": "stdout",
          "text": [
            "car with length 2 meters and height 1 meters comes into\n",
            "Above slab\n"
          ]
        }
      ],
      "source": [
        "import numpy as np\n",
        "import math\n",
        "\n",
        "data=np.array([[1.5,1,50],[2,0.7,100],[2,1,100],[1.5,1,50]])\n",
        "x1=2\n",
        "y1=1\n",
        "min=1000\n",
        "z=0\n",
        "for i in range(len(data)):\n",
        "  x2=data[i][0];\n",
        "  y2=data[i][1]\n",
        "  d=math.sqrt(((x1-x2)**2)+((y1-y2)**2))\n",
        "  if(d<min):\n",
        "    min=d\n",
        "    z=i\n",
        "print(\"car with length 2 meters and height 1 meters comes into\")\n",
        "if(data[z][2]==50):\n",
        "  print(\"under slab\");\n",
        "if(data[z][2]==100):\n",
        "  print(\"Above slab\");"
      ]
    }
  ]
}